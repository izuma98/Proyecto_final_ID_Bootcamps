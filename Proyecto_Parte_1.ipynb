{
 "cells": [
  {
   "cell_type": "markdown",
   "id": "b717b357-55b7-4845-8ef7-2a2e758af7fc",
   "metadata": {
    "tags": []
   },
   "source": [
    "# Obtención de los datos"
   ]
  },
  {
   "cell_type": "code",
   "execution_count": 1,
   "id": "15b72ead-6092-4da0-bbfe-5f53eda9bc90",
   "metadata": {
    "tags": []
   },
   "outputs": [],
   "source": [
    "# La primera parte del proyecto consiste en obtener los datos de distintas paginas web\n",
    "# El objetivo principal es obtener el precio de la electricidad desde el 1 de enero de 2016 hasta el 30 de junio de 2024, 3104 días\n",
    "# El precio de la electricidad cambia cada hora, por lo que en total se recogeran 3104*24=74.496 datos más o menos\n",
    "# Aparte del precio, la idea es obtener más datos que puedan estar relacionados como la demanda y generación de energía.\n",
    "# Para obtener los datos de los precios de la electricada y del gas se ha utilizado Web Scraping"
   ]
  },
  {
   "cell_type": "code",
   "execution_count": 3,
   "id": "337b79e2-d238-438c-9adf-929d980c0933",
   "metadata": {
    "tags": []
   },
   "outputs": [],
   "source": [
    "# Importando las librerias\n",
    "# -------------------------\n",
    "import requests\n",
    "from time import sleep, strftime\n",
    "import random\n",
    "from random import randint\n",
    "from bs4 import BeautifulSoup\n",
    "from selenium import webdriver\n",
    "from selenium.webdriver.common.by import By\n",
    "import pandas as pd\n",
    "import numpy as np\n",
    "import matplotlib.pyplot as plt\n",
    "from selenium.webdriver.chrome.service import Service"
   ]
  },
  {
   "cell_type": "markdown",
   "id": "cbef25f7-350a-4339-93ca-55e4c40c8330",
   "metadata": {
    "tags": []
   },
   "source": [
    "## Precio de la luz para cada hora"
   ]
  },
  {
   "cell_type": "code",
   "execution_count": 47,
   "id": "650abd0a-3c45-40c4-9d93-6479001d856b",
   "metadata": {
    "tags": []
   },
   "outputs": [
    {
     "name": "stdout",
     "output_type": "stream",
     "text": [
      "True\n"
     ]
    }
   ],
   "source": [
    "# Links de los precios de la electricidad para cada hora de España, Francia y Portugal\n",
    "url_S = \"https://transparency.entsoe.eu/transmission-domain/r2/dayAheadPrices/show?name=&defaultValue=false&viewType=TABLE&areaType=BZN&atch=false&dateTime.dateTime=01.01.2016+00:00|CET|DAY&biddingZone.values=CTY|10YES-REE------0!BZN|10YES-REE------0&resolution.values=PT60M&dateTime.timezone=CET_CEST&dateTime.timezone_input=CET+(UTC+1)+/+CEST+(UTC+2)\"\n",
    "url_P = 'https://transparency.entsoe.eu/transmission-domain/r2/dayAheadPrices/show?name=&defaultValue=false&viewType=TABLE&areaType=BZN&atch=false&dateTime.dateTime=01.01.2016+00:00|CET|DAY&biddingZone.values=CTY|10YPT-REN------W!BZN|10YPT-REN------W&resolution.values=PT60M&dateTime.timezone=CET_CEST&dateTime.timezone_input=CET+(UTC+1)+/+CEST+(UTC+2)'\n",
    "url_F = 'https://transparency.entsoe.eu/transmission-domain/r2/dayAheadPrices/show?name=&defaultValue=false&viewType=TABLE&areaType=BZN&atch=false&dateTime.dateTime=01.01.2016+00:00|CET|DAY&biddingZone.values=CTY|10YFR-RTE------C!BZN|10YFR-RTE------C&resolution.values=PT60M&dateTime.timezone=CET_CEST&dateTime.timezone_input=CET+(UTC+1)+/+CEST+(UTC+2)'\n",
    "response = requests.get(url_S)\n",
    "print(bool(response))\n",
    "soup = BeautifulSoup(response.text, \"html.parser\")\n",
    "chrome_driver = \"chromedriver.exe\"\n",
    "driver_service = Service(executable_path = chrome_driver)"
   ]
  },
  {
   "cell_type": "code",
   "execution_count": null,
   "id": "b8eb9d6c-0bac-4824-b0d2-5e9235699f06",
   "metadata": {
    "tags": []
   },
   "outputs": [],
   "source": [
    "precio_S=[]\n",
    "navegador = webdriver.Chrome(service=driver_service)\n",
    "navegador.get(url_S)\n",
    "sleep(4)\n",
    "dias=3104\n",
    "for j in range(dias):\n",
    "    sleep(randint(2,3))\n",
    "    soup = BeautifulSoup(navegador.page_source)\n",
    "\n",
    "    for diru in soup.find_all('td', attrs={\"class\":\"dv-value-cell\"}):\n",
    "        precio_S.append(diru.text)\n",
    "    elemento=navegador.find_element(By.XPATH, '//*[@id=\"date-arrow-right-user-friendly-input-dv-date-from\"]')\n",
    "    elemento.click()"
   ]
  },
  {
   "cell_type": "code",
   "execution_count": null,
   "id": "27bfd702-9c95-4205-8c42-51dee47e0cff",
   "metadata": {},
   "outputs": [],
   "source": [
    "precio_P=[]\n",
    "navegador = webdriver.Chrome(service=driver_service)\n",
    "navegador.get('https://transparency.entsoe.eu/transmission-domain/r2/dayAheadPrices/show?name=&defaultValue=false&viewType=TABLE&areaType=BZN&atch=false&dateTime.dateTime=29.12.2021+00:00|CET|DAY&biddingZone.values=CTY|10YPT-REN------W!BZN|10YPT-REN------W&resolution.values=PT60M&dateTime.timezone=CET_CEST&dateTime.timezone_input=CET+(UTC+1)+/+CEST+(UTC+2)')\n",
    "sleep(4)\n",
    "for j in range(dias):\n",
    "    sleep(randint(2,3))\n",
    "    soup = BeautifulSoup(navegador.page_source)\n",
    "\n",
    "    for diru in soup.find_all('td', attrs={\"class\":\"dv-value-cell\"}):\n",
    "        precio_P.append(diru.text)\n",
    "    elemento=navegador.find_element(By.XPATH, '//*[@id=\"date-arrow-right-user-friendly-input-dv-date-from\"]')\n",
    "    elemento.click()"
   ]
  },
  {
   "cell_type": "code",
   "execution_count": null,
   "id": "63b1ce78-c24a-406a-a793-2fd1217fceff",
   "metadata": {},
   "outputs": [],
   "source": [
    "precio_F=[]\n",
    "navegador = webdriver.Chrome(service=driver_service)\n",
    "navegador.get('https://transparency.entsoe.eu/transmission-domain/r2/dayAheadPrices/show?name=&defaultValue=false&viewType=TABLE&areaType=BZN&atch=false&dateTime.dateTime=01.01.2023+00:00|CET|DAY&biddingZone.values=CTY|10YFR-RTE------C!BZN|10YFR-RTE------C&resolution.values=PT60M&dateTime.timezone=CET_CEST&dateTime.timezone_input=CET+(UTC+1)+/+CEST+(UTC+2)')\n",
    "sleep(10)\n",
    "for j in range(dias):\n",
    "    sleep(randint(2,3))\n",
    "    soup = BeautifulSoup(navegador.page_source)\n",
    "\n",
    "    for diru in soup.find_all('td', attrs={\"class\":\"dv-value-cell\"}):\n",
    "        precio_F.append(diru.text)\n",
    "    elemento=navegador.find_element(By.XPATH, '//*[@id=\"date-arrow-right-user-friendly-input-dv-date-from\"]')\n",
    "    elemento.click()"
   ]
  },
  {
   "cell_type": "code",
   "execution_count": null,
   "id": "62d8b040-f9ad-4b95-afa4-d8d0846a7364",
   "metadata": {},
   "outputs": [],
   "source": [
    "# Lo guardamos todo en un dataset y lo convertimos en csv\n",
    "df_PrecioLuz= pd.DataFrame(list(zip(hora,precio_P,precio_F,precio_S)), columns=['Hora','Precio_PT','Precio_FR','Precio_ES'])\n",
    "df_PrecioLuz.to_csv('Precio_Luz_hora.csv', index=False)"
   ]
  },
  {
   "cell_type": "markdown",
   "id": "66f39cc1-9aed-4fa4-8e57-5b15c90914ef",
   "metadata": {
    "tags": []
   },
   "source": [
    "## Generación, demanda y export/import. de energía eléctrica"
   ]
  },
  {
   "cell_type": "code",
   "execution_count": null,
   "id": "05d717ba-cee9-4182-9f54-a6c22766cdd4",
   "metadata": {},
   "outputs": [],
   "source": [
    "# La generación, demanda, importaciones de energía se consiguieron directamente de la REE \n",
    "# Desde este dataset se consiguió la lista de los días desde 206-01-01 a 2024-06-30"
   ]
  },
  {
   "cell_type": "code",
   "execution_count": 13,
   "id": "7318c1b5-83db-4380-b8ac-0bc62e510a0a",
   "metadata": {},
   "outputs": [],
   "source": [
    "df_Balance=pd.read_csv('Balance_diario.csv')"
   ]
  },
  {
   "cell_type": "code",
   "execution_count": 15,
   "id": "fa3b4aea-886c-46b2-9190-9b5cb1d80638",
   "metadata": {
    "tags": []
   },
   "outputs": [],
   "source": [
    "Fecha=[]\n",
    "for i in df_Balance['Fecha']:\n",
    "    Fecha.append(i)"
   ]
  },
  {
   "cell_type": "code",
   "execution_count": null,
   "id": "031b8037-46d8-4dfd-a556-d9b1f368526d",
   "metadata": {},
   "outputs": [],
   "source": []
  },
  {
   "cell_type": "markdown",
   "id": "16696fc5-b700-47fd-8ba3-e9a2d3a58161",
   "metadata": {
    "tags": []
   },
   "source": [
    "## Precio de la luz para cada día. Se ha hecho la media aritmética del dataset anterior"
   ]
  },
  {
   "cell_type": "code",
   "execution_count": 7,
   "id": "8f97661f-9424-4496-8164-082ed9a0e363",
   "metadata": {
    "tags": []
   },
   "outputs": [
    {
     "data": {
      "text/html": [
       "<div>\n",
       "<style scoped>\n",
       "    .dataframe tbody tr th:only-of-type {\n",
       "        vertical-align: middle;\n",
       "    }\n",
       "\n",
       "    .dataframe tbody tr th {\n",
       "        vertical-align: top;\n",
       "    }\n",
       "\n",
       "    .dataframe thead th {\n",
       "        text-align: right;\n",
       "    }\n",
       "</style>\n",
       "<table border=\"1\" class=\"dataframe\">\n",
       "  <thead>\n",
       "    <tr style=\"text-align: right;\">\n",
       "      <th></th>\n",
       "      <th>Hora</th>\n",
       "      <th>Precio_PT</th>\n",
       "      <th>Precio_FR</th>\n",
       "      <th>Precio_ES</th>\n",
       "    </tr>\n",
       "  </thead>\n",
       "  <tbody>\n",
       "    <tr>\n",
       "      <th>0</th>\n",
       "      <td>2016-01-01 00:00:00</td>\n",
       "      <td>48.55</td>\n",
       "      <td>23.86</td>\n",
       "      <td>48.55</td>\n",
       "    </tr>\n",
       "    <tr>\n",
       "      <th>1</th>\n",
       "      <td>2016-01-01 01:00:00</td>\n",
       "      <td>40.00</td>\n",
       "      <td>22.39</td>\n",
       "      <td>40.00</td>\n",
       "    </tr>\n",
       "    <tr>\n",
       "      <th>2</th>\n",
       "      <td>2016-01-01 02:00:00</td>\n",
       "      <td>33.10</td>\n",
       "      <td>20.59</td>\n",
       "      <td>33.10</td>\n",
       "    </tr>\n",
       "    <tr>\n",
       "      <th>3</th>\n",
       "      <td>2016-01-01 03:00:00</td>\n",
       "      <td>28.11</td>\n",
       "      <td>16.81</td>\n",
       "      <td>28.11</td>\n",
       "    </tr>\n",
       "    <tr>\n",
       "      <th>4</th>\n",
       "      <td>2016-01-01 04:00:00</td>\n",
       "      <td>27.13</td>\n",
       "      <td>17.41</td>\n",
       "      <td>27.13</td>\n",
       "    </tr>\n",
       "  </tbody>\n",
       "</table>\n",
       "</div>"
      ],
      "text/plain": [
       "                  Hora  Precio_PT  Precio_FR  Precio_ES\n",
       "0  2016-01-01 00:00:00      48.55      23.86      48.55\n",
       "1  2016-01-01 01:00:00      40.00      22.39      40.00\n",
       "2  2016-01-01 02:00:00      33.10      20.59      33.10\n",
       "3  2016-01-01 03:00:00      28.11      16.81      28.11\n",
       "4  2016-01-01 04:00:00      27.13      17.41      27.13"
      ]
     },
     "execution_count": 7,
     "metadata": {},
     "output_type": "execute_result"
    }
   ],
   "source": [
    "df_precio=pd.read_csv('Precio_Luz_hora.csv') # Hay que fijarse cuando toca el cambio de hora\n",
    "df_precio.head()"
   ]
  },
  {
   "cell_type": "code",
   "execution_count": 9,
   "id": "e53c3c99-51c5-4bd2-9587-c0016d296897",
   "metadata": {
    "tags": []
   },
   "outputs": [],
   "source": [
    "def hora_a_dia(lista):\n",
    "    ''' Con esta función paso hago una media de los precios horarioa para ese día\n",
    "    Es importante tener en cuenta los días con cambios de hora. Ese día solo hay 23 horas\n",
    "    '''\n",
    "    diario=[]\n",
    "    for i in range(0,2064,24): \n",
    "        diario.append(sum(lista[i:i+23])/24)\n",
    "    diario.append(sum(lista[2064:2087])/23) # 2016\n",
    "                  \n",
    "    for i in range(2087,10799,24):\n",
    "        diario.append(sum(lista[i:i+23])/24)\n",
    "    diario.append(sum(lista[10799:10822])/23) # 2017\n",
    "                  \n",
    "    for i in range(10822,19534,24): \n",
    "        diario.append(sum(lista[i:i+23])/24)\n",
    "    diario.append(sum(lista[19534:19557])/23) # 2018\n",
    "                  \n",
    "    for i in range(19557,28437,24): \n",
    "        diario.append(sum(lista[i:i+23])/24)\n",
    "    diario.append(sum(lista[28437:28460])/23) # 2019\n",
    "                  \n",
    "    for i in range(28460,37172,24): \n",
    "        diario.append(sum(lista[i:i+23])/24)\n",
    "    diario.append(sum(lista[37172:37195])/23) # 2020\n",
    "                  \n",
    "    for i in range(37195,45907,24): \n",
    "        diario.append(sum(lista[i:i+23])/24)\n",
    "    diario.append(sum(lista[45907:45930])/23) # 2021\n",
    "                  \n",
    "    for i in range(45930,54642,24): \n",
    "        diario.append(sum(lista[i:i+23])/24)\n",
    "    diario.append(sum(lista[54642:54665])/23) # 2022\n",
    "                  \n",
    "    for i in range(54665,63377,24): \n",
    "        diario.append(sum(lista[i:i+23])/24)\n",
    "    diario.append(sum(lista[63377:63400])/23) # 2023\n",
    "                  \n",
    "    for i in range(63400,72280,24): \n",
    "        diario.append(sum(lista[i:i+23])/24)\n",
    "    diario.append(sum(lista[72280:72303])/23) # 2024\n",
    "                  \n",
    "    for i in range(72303,74487,24): \n",
    "        diario.append(sum(lista[i:i+23])/24)\n",
    "    return diario"
   ]
  },
  {
   "cell_type": "code",
   "execution_count": 17,
   "id": "684d4b9c-bbd8-4d60-9e06-375513fcbbe3",
   "metadata": {
    "tags": []
   },
   "outputs": [],
   "source": [
    "PT=hora_a_dia(df_precio.Precio_PT)\n",
    "FR=hora_a_dia(df_precio.Precio_FR)\n",
    "ES=hora_a_dia(df_precio.Precio_ES)"
   ]
  },
  {
   "cell_type": "code",
   "execution_count": 19,
   "id": "0ffa4dc9-b6e9-410e-913f-1d0f40b90db2",
   "metadata": {
    "tags": []
   },
   "outputs": [],
   "source": [
    "df_Precio_luz_diario = pd.DataFrame(list(zip(Fecha, PT, FR,ES)), columns=['Fecha','Precio_PT','precio_FR','precio_ES'])"
   ]
  },
  {
   "cell_type": "code",
   "execution_count": 21,
   "id": "4bbf0ca4-1c1c-40b8-ae5e-b9790756fcd4",
   "metadata": {},
   "outputs": [
    {
     "data": {
      "text/html": [
       "<div>\n",
       "<style scoped>\n",
       "    .dataframe tbody tr th:only-of-type {\n",
       "        vertical-align: middle;\n",
       "    }\n",
       "\n",
       "    .dataframe tbody tr th {\n",
       "        vertical-align: top;\n",
       "    }\n",
       "\n",
       "    .dataframe thead th {\n",
       "        text-align: right;\n",
       "    }\n",
       "</style>\n",
       "<table border=\"1\" class=\"dataframe\">\n",
       "  <thead>\n",
       "    <tr style=\"text-align: right;\">\n",
       "      <th></th>\n",
       "      <th>Fecha</th>\n",
       "      <th>Precio_PT</th>\n",
       "      <th>precio_FR</th>\n",
       "      <th>precio_ES</th>\n",
       "    </tr>\n",
       "  </thead>\n",
       "  <tbody>\n",
       "    <tr>\n",
       "      <th>0</th>\n",
       "      <td>2016-01-01</td>\n",
       "      <td>26.595000</td>\n",
       "      <td>22.634583</td>\n",
       "      <td>26.308333</td>\n",
       "    </tr>\n",
       "    <tr>\n",
       "      <th>1</th>\n",
       "      <td>2016-01-02</td>\n",
       "      <td>30.099583</td>\n",
       "      <td>21.922917</td>\n",
       "      <td>29.030833</td>\n",
       "    </tr>\n",
       "    <tr>\n",
       "      <th>2</th>\n",
       "      <td>2016-01-03</td>\n",
       "      <td>21.298750</td>\n",
       "      <td>17.063333</td>\n",
       "      <td>17.601667</td>\n",
       "    </tr>\n",
       "    <tr>\n",
       "      <th>3</th>\n",
       "      <td>2016-01-04</td>\n",
       "      <td>30.398750</td>\n",
       "      <td>26.979583</td>\n",
       "      <td>29.467500</td>\n",
       "    </tr>\n",
       "    <tr>\n",
       "      <th>4</th>\n",
       "      <td>2016-01-05</td>\n",
       "      <td>30.437500</td>\n",
       "      <td>32.502500</td>\n",
       "      <td>30.437500</td>\n",
       "    </tr>\n",
       "  </tbody>\n",
       "</table>\n",
       "</div>"
      ],
      "text/plain": [
       "        Fecha  Precio_PT  precio_FR  precio_ES\n",
       "0  2016-01-01  26.595000  22.634583  26.308333\n",
       "1  2016-01-02  30.099583  21.922917  29.030833\n",
       "2  2016-01-03  21.298750  17.063333  17.601667\n",
       "3  2016-01-04  30.398750  26.979583  29.467500\n",
       "4  2016-01-05  30.437500  32.502500  30.437500"
      ]
     },
     "execution_count": 21,
     "metadata": {},
     "output_type": "execute_result"
    }
   ],
   "source": [
    "df_Precio_luz_diario.head()"
   ]
  },
  {
   "cell_type": "markdown",
   "id": "ab7226cf-ee87-4b8f-9f59-5211ed866fcc",
   "metadata": {
    "tags": []
   },
   "source": [
    "## Precio del gas para cada día"
   ]
  },
  {
   "cell_type": "code",
   "execution_count": 163,
   "id": "e0a89ca9-11bd-475f-bc77-3b0f4f972bc7",
   "metadata": {
    "tags": []
   },
   "outputs": [],
   "source": [
    "# Para entrar a la pagina web deseada hay que usar un HEADER\n",
    "HEADER = {'User-Agent': 'Mozilla/5.0 (iPad; CPU OS 12_2 like Mac OS X) AppleWebKit/605.1.15 (KHTML, like Gecko) Mobile/15E148'}"
   ]
  },
  {
   "cell_type": "code",
   "execution_count": 165,
   "id": "643100f9-37bf-4528-9aff-b462d624a676",
   "metadata": {
    "tags": []
   },
   "outputs": [],
   "source": [
    "navegador = webdriver.Chrome(service=driver_service)"
   ]
  },
  {
   "cell_type": "code",
   "execution_count": 167,
   "id": "d5b5a6a4-0d8e-45b8-9c53-5d2998085614",
   "metadata": {
    "tags": []
   },
   "outputs": [],
   "source": [
    "navegador.get('https://www.fxempire.es/commodities/natural-gas/history')\n",
    "soup = BeautifulSoup(navegador.page_source)"
   ]
  },
  {
   "cell_type": "code",
   "execution_count": 173,
   "id": "8d177d87-1694-42b7-b810-102305924ba4",
   "metadata": {
    "tags": []
   },
   "outputs": [],
   "source": [
    "# Dentro de la ventana emergente hay que seleccionar las fechas interesadas y luego volver a ejecutar\n",
    "soup = BeautifulSoup(navegador.page_source)"
   ]
  },
  {
   "cell_type": "code",
   "execution_count": 175,
   "id": "ffad35cb-6d66-4c9e-9aef-15912ab05fce",
   "metadata": {
    "tags": []
   },
   "outputs": [
    {
     "data": {
      "text/plain": [
       "['Fecha ', 'Máximo ', 'Mínimo ', 'Cierre ']"
      ]
     },
     "execution_count": 175,
     "metadata": {},
     "output_type": "execute_result"
    }
   ],
   "source": [
    "titulos_gas=[]\n",
    "titulos_gas.append(soup.find_all('th')[0].text)\n",
    "titulos_gas.append(soup.find_all('th')[1].text)\n",
    "titulos_gas.append(soup.find_all('th')[2].text)\n",
    "titulos_gas.append(soup.find_all('th')[4].text)\n",
    "titulos_gas"
   ]
  },
  {
   "cell_type": "code",
   "execution_count": 177,
   "id": "8285dbbd-87e9-4638-9577-70c40eb20ff3",
   "metadata": {
    "tags": []
   },
   "outputs": [
    {
     "data": {
      "text/plain": [
       "15834"
      ]
     },
     "execution_count": 177,
     "metadata": {},
     "output_type": "execute_result"
    }
   ],
   "source": [
    "lista=soup.find_all('td', attrs={\"class\":\"Td-sc-do7dui-0\"})[:-5]\n",
    "len(lista)"
   ]
  },
  {
   "cell_type": "code",
   "execution_count": 179,
   "id": "292ada5a-0de8-4963-91cf-b3f4ba093a7e",
   "metadata": {
    "tags": []
   },
   "outputs": [],
   "source": [
    "fecha=[]\n",
    "maximo=[]\n",
    "minimo=[]\n",
    "precio_gas=[]\n",
    "for i in range ( 0,2639 ):\n",
    "    fecha.append(lista[6*i].text)\n",
    "    maximo.append(lista[6*i+1].text)\n",
    "    minimo.append(lista[6*i+2].text)\n",
    "    precio_gas.append(lista[6*i+4].text)"
   ]
  },
  {
   "cell_type": "code",
   "execution_count": 181,
   "id": "ef8db5e3-2ac0-4a69-a79a-a77b55c3f1fa",
   "metadata": {
    "tags": []
   },
   "outputs": [],
   "source": [
    "df_gas = pd.DataFrame(list(zip(fecha, maximo, minimo,precio_gas)), columns=titulos_gas)"
   ]
  },
  {
   "cell_type": "code",
   "execution_count": null,
   "id": "64e0a9c0-8a3d-48d6-ba8b-1233084e7fc0",
   "metadata": {},
   "outputs": [],
   "source": [
    "# Desafortunadamente no hay datos de todos los días, asi que hay que interpolar para los días que faltan"
   ]
  },
  {
   "cell_type": "code",
   "execution_count": null,
   "id": "21f1d90c-9a1f-4e30-918b-efaca7bc3dcb",
   "metadata": {},
   "outputs": [],
   "source": [
    "df_gas.columns = df_gas.columns.str.strip()\n",
    "df_aux=pd.merge(df_balance, df_gas, on='Fecha', how='outer')\n",
    "df_Precio_gas=df_aux[['Fecha','Máximo','Mínimo','Cierre']]\n",
    "\n",
    "# Interpolación de los datos\n",
    "df_Precio_gas.Máximo.interpolate(method='linear', inplace=True, limit_direction=\"both\")\n",
    "\n",
    "df_Precio_gas.to_csv('Precio_gas.csv', index=False)"
   ]
  },
  {
   "cell_type": "code",
   "execution_count": null,
   "id": "267e7372-fa25-43f1-82b1-cb24881d81c5",
   "metadata": {},
   "outputs": [],
   "source": []
  },
  {
   "cell_type": "markdown",
   "id": "c6fa61ed-7912-4fca-8886-3cdeb03ce58d",
   "metadata": {
    "tags": []
   },
   "source": [
    "## Temperatura máxima, mínima y la medía para 10 ciudades y un valor aproximado para España"
   ]
  },
  {
   "cell_type": "code",
   "execution_count": null,
   "id": "99c17e6a-f14f-4964-99bf-b64b352fc2bd",
   "metadata": {},
   "outputs": [],
   "source": [
    "# Desde AEMET se han obtenido direcatemente las temperaturas máximas y minimas diarias de 10 ciudades de España"
   ]
  },
  {
   "cell_type": "code",
   "execution_count": null,
   "id": "18809da5-db9e-4cab-bf39-e3ba3de3dfe1",
   "metadata": {},
   "outputs": [],
   "source": [
    "ciudades=['Madrid','Barcelona','Bilbo','Valencia','Sevilla','A_Coruña','Zaragoza','Las_Palmas','Valladolid','Malaga']"
   ]
  },
  {
   "cell_type": "code",
   "execution_count": null,
   "id": "45794425-fc8d-4163-a281-c736bd423c33",
   "metadata": {},
   "outputs": [],
   "source": [
    "# Para cada día se ha calculado una tempereatura media\n",
    "# Después se ha hecho una media aritmetica dandole a cada ciudad un peso distinto dependiendo del numero de habitantes para calcular una temperatura media para España"
   ]
  },
  {
   "cell_type": "code",
   "execution_count": null,
   "id": "e57f72c9-0e59-4772-808d-143191965fad",
   "metadata": {},
   "outputs": [],
   "source": []
  },
  {
   "cell_type": "markdown",
   "id": "5781e3e8-d617-4ad3-883b-37837c18924f",
   "metadata": {},
   "source": [
    "# Dataset definitivo"
   ]
  },
  {
   "cell_type": "code",
   "execution_count": 31,
   "id": "187c406d-3191-4487-ab69-16fdfdec7fbf",
   "metadata": {
    "tags": []
   },
   "outputs": [],
   "source": [
    "def juntar_todo():\n",
    "    ''' Esta función junta todos los dataset obtenidos en uno solo\n",
    "    '''\n",
    "    df_Precio_Luz_dia=pd.read_csv('Precio_Luz_dia.csv')\n",
    "    df_Balance=pd.read_csv('Balance_diario.csv')\n",
    "    df_gas=pd.read_csv('Precio_gas.csv')\n",
    "    df_T=pd.read_csv('Temperaturas.csv')\n",
    "    \n",
    "    dfs=[df_Balance,df_T,df_gas,df_Precio_Luz_dia]\n",
    "    \n",
    "    df = dfs[0]\n",
    "    for d in dfs[1:]:\n",
    "        df = df.merge(d, on='Fecha', how='inner')\n",
    "    df['Fecha']=pd.to_datetime(df['Fecha'])\n",
    "    return df"
   ]
  },
  {
   "cell_type": "code",
   "execution_count": 37,
   "id": "f3e96aba-8900-4ec6-8c52-1303b1bf8150",
   "metadata": {
    "tags": []
   },
   "outputs": [
    {
     "data": {
      "text/html": [
       "<div>\n",
       "<style scoped>\n",
       "    .dataframe tbody tr th:only-of-type {\n",
       "        vertical-align: middle;\n",
       "    }\n",
       "\n",
       "    .dataframe tbody tr th {\n",
       "        vertical-align: top;\n",
       "    }\n",
       "\n",
       "    .dataframe thead th {\n",
       "        text-align: right;\n",
       "    }\n",
       "</style>\n",
       "<table border=\"1\" class=\"dataframe\">\n",
       "  <thead>\n",
       "    <tr style=\"text-align: right;\">\n",
       "      <th></th>\n",
       "      <th>Fecha</th>\n",
       "      <th>Hidráulica</th>\n",
       "      <th>Eólica</th>\n",
       "      <th>Solar fotovoltaica</th>\n",
       "      <th>Solar térmica</th>\n",
       "      <th>Hidroeólica</th>\n",
       "      <th>Otras renovables</th>\n",
       "      <th>Residuos renovables</th>\n",
       "      <th>Generación renovable</th>\n",
       "      <th>Turbinación bombeo</th>\n",
       "      <th>...</th>\n",
       "      <th>T_Media_Malaga</th>\n",
       "      <th>T_Max_España</th>\n",
       "      <th>T_Min_España</th>\n",
       "      <th>T_Media_España</th>\n",
       "      <th>Máximo</th>\n",
       "      <th>Mínimo</th>\n",
       "      <th>Cierre</th>\n",
       "      <th>Precio_PT</th>\n",
       "      <th>precio_FR</th>\n",
       "      <th>precio_ES</th>\n",
       "    </tr>\n",
       "  </thead>\n",
       "  <tbody>\n",
       "    <tr>\n",
       "      <th>0</th>\n",
       "      <td>2016-01-01</td>\n",
       "      <td>31.642298</td>\n",
       "      <td>202.916119</td>\n",
       "      <td>9.021566</td>\n",
       "      <td>0.695552</td>\n",
       "      <td>0.011714</td>\n",
       "      <td>7.543142</td>\n",
       "      <td>1.754805</td>\n",
       "      <td>253.585196</td>\n",
       "      <td>9.886914</td>\n",
       "      <td>...</td>\n",
       "      <td>16.15</td>\n",
       "      <td>15.8058</td>\n",
       "      <td>9.5259</td>\n",
       "      <td>12.66585</td>\n",
       "      <td>2.278</td>\n",
       "      <td>2.241</td>\n",
       "      <td>2.246</td>\n",
       "      <td>26.595000</td>\n",
       "      <td>22.634583</td>\n",
       "      <td>26.308333</td>\n",
       "    </tr>\n",
       "    <tr>\n",
       "      <th>1</th>\n",
       "      <td>2016-01-02</td>\n",
       "      <td>35.554520</td>\n",
       "      <td>235.804590</td>\n",
       "      <td>12.635816</td>\n",
       "      <td>1.260093</td>\n",
       "      <td>0.013572</td>\n",
       "      <td>7.876332</td>\n",
       "      <td>1.613110</td>\n",
       "      <td>294.758033</td>\n",
       "      <td>24.261468</td>\n",
       "      <td>...</td>\n",
       "      <td>16.60</td>\n",
       "      <td>14.9438</td>\n",
       "      <td>8.3085</td>\n",
       "      <td>11.62615</td>\n",
       "      <td>2.278</td>\n",
       "      <td>2.241</td>\n",
       "      <td>2.246</td>\n",
       "      <td>30.099583</td>\n",
       "      <td>21.922917</td>\n",
       "      <td>29.030833</td>\n",
       "    </tr>\n",
       "    <tr>\n",
       "      <th>2</th>\n",
       "      <td>2016-01-03</td>\n",
       "      <td>35.920392</td>\n",
       "      <td>311.377459</td>\n",
       "      <td>5.096597</td>\n",
       "      <td>0.095938</td>\n",
       "      <td>0.020916</td>\n",
       "      <td>7.565244</td>\n",
       "      <td>1.662908</td>\n",
       "      <td>361.739455</td>\n",
       "      <td>12.502102</td>\n",
       "      <td>...</td>\n",
       "      <td>17.35</td>\n",
       "      <td>15.0080</td>\n",
       "      <td>7.9229</td>\n",
       "      <td>11.46545</td>\n",
       "      <td>2.278</td>\n",
       "      <td>2.241</td>\n",
       "      <td>2.246</td>\n",
       "      <td>21.298750</td>\n",
       "      <td>17.063333</td>\n",
       "      <td>17.601667</td>\n",
       "    </tr>\n",
       "    <tr>\n",
       "      <th>3</th>\n",
       "      <td>2016-01-04</td>\n",
       "      <td>65.278775</td>\n",
       "      <td>258.510870</td>\n",
       "      <td>4.849798</td>\n",
       "      <td>0.069916</td>\n",
       "      <td>0.028387</td>\n",
       "      <td>7.953584</td>\n",
       "      <td>2.133319</td>\n",
       "      <td>338.824649</td>\n",
       "      <td>30.484420</td>\n",
       "      <td>...</td>\n",
       "      <td>19.45</td>\n",
       "      <td>15.7991</td>\n",
       "      <td>10.5322</td>\n",
       "      <td>13.16565</td>\n",
       "      <td>2.287</td>\n",
       "      <td>2.156</td>\n",
       "      <td>2.206</td>\n",
       "      <td>30.398750</td>\n",
       "      <td>26.979583</td>\n",
       "      <td>29.467500</td>\n",
       "    </tr>\n",
       "    <tr>\n",
       "      <th>4</th>\n",
       "      <td>2016-01-05</td>\n",
       "      <td>79.728796</td>\n",
       "      <td>290.893912</td>\n",
       "      <td>12.562126</td>\n",
       "      <td>1.432872</td>\n",
       "      <td>0.033797</td>\n",
       "      <td>7.944637</td>\n",
       "      <td>2.474560</td>\n",
       "      <td>395.070700</td>\n",
       "      <td>20.729332</td>\n",
       "      <td>...</td>\n",
       "      <td>14.60</td>\n",
       "      <td>13.1176</td>\n",
       "      <td>7.1642</td>\n",
       "      <td>10.14090</td>\n",
       "      <td>2.267</td>\n",
       "      <td>2.176</td>\n",
       "      <td>2.256</td>\n",
       "      <td>30.437500</td>\n",
       "      <td>32.502500</td>\n",
       "      <td>30.437500</td>\n",
       "    </tr>\n",
       "  </tbody>\n",
       "</table>\n",
       "<p>5 rows × 70 columns</p>\n",
       "</div>"
      ],
      "text/plain": [
       "       Fecha  Hidráulica      Eólica  Solar fotovoltaica  Solar térmica  \\\n",
       "0 2016-01-01   31.642298  202.916119            9.021566       0.695552   \n",
       "1 2016-01-02   35.554520  235.804590           12.635816       1.260093   \n",
       "2 2016-01-03   35.920392  311.377459            5.096597       0.095938   \n",
       "3 2016-01-04   65.278775  258.510870            4.849798       0.069916   \n",
       "4 2016-01-05   79.728796  290.893912           12.562126       1.432872   \n",
       "\n",
       "   Hidroeólica  Otras renovables  Residuos renovables  Generación renovable  \\\n",
       "0     0.011714          7.543142             1.754805            253.585196   \n",
       "1     0.013572          7.876332             1.613110            294.758033   \n",
       "2     0.020916          7.565244             1.662908            361.739455   \n",
       "3     0.028387          7.953584             2.133319            338.824649   \n",
       "4     0.033797          7.944637             2.474560            395.070700   \n",
       "\n",
       "   Turbinación bombeo  ...  T_Media_Malaga  T_Max_España  T_Min_España  \\\n",
       "0            9.886914  ...           16.15       15.8058        9.5259   \n",
       "1           24.261468  ...           16.60       14.9438        8.3085   \n",
       "2           12.502102  ...           17.35       15.0080        7.9229   \n",
       "3           30.484420  ...           19.45       15.7991       10.5322   \n",
       "4           20.729332  ...           14.60       13.1176        7.1642   \n",
       "\n",
       "   T_Media_España  Máximo  Mínimo  Cierre  Precio_PT  precio_FR  precio_ES  \n",
       "0        12.66585   2.278   2.241   2.246  26.595000  22.634583  26.308333  \n",
       "1        11.62615   2.278   2.241   2.246  30.099583  21.922917  29.030833  \n",
       "2        11.46545   2.278   2.241   2.246  21.298750  17.063333  17.601667  \n",
       "3        13.16565   2.287   2.156   2.206  30.398750  26.979583  29.467500  \n",
       "4        10.14090   2.267   2.176   2.256  30.437500  32.502500  30.437500  \n",
       "\n",
       "[5 rows x 70 columns]"
      ]
     },
     "execution_count": 37,
     "metadata": {},
     "output_type": "execute_result"
    }
   ],
   "source": [
    "juntar_todo().head()"
   ]
  }
 ],
 "metadata": {
  "kernelspec": {
   "display_name": "Python 3 (ipykernel)",
   "language": "python",
   "name": "python3"
  },
  "language_info": {
   "codemirror_mode": {
    "name": "ipython",
    "version": 3
   },
   "file_extension": ".py",
   "mimetype": "text/x-python",
   "name": "python",
   "nbconvert_exporter": "python",
   "pygments_lexer": "ipython3",
   "version": "3.11.9"
  }
 },
 "nbformat": 4,
 "nbformat_minor": 5
}
